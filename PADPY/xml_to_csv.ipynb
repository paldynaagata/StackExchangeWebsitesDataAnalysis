{
 "cells": [
  {
   "cell_type": "code",
   "execution_count": 88,
   "metadata": {},
   "outputs": [],
   "source": [
    "import xml.etree.ElementTree as ET\n",
    "import numpy as np\n",
    "import pandas as pd\n",
    "import os\n",
    "import csv\n",
    "import glob"
   ]
  },
  {
   "cell_type": "code",
   "execution_count": 121,
   "metadata": {},
   "outputs": [],
   "source": [
    "ROOT_PATH = 'serwisy_xml'\n",
    "CSV_PATH = 'serwisy_csv'\n",
    "\n",
    "def get_list_of_files_from_directory(directory, extension):\n",
    "    \"\"\"\n",
    "    Funkcja pobiera liste plikow z podanej sciezki (directory)\n",
    "    o podanym rozszerzeniu (extension)\n",
    "    \"\"\"\n",
    "    files_list = []\n",
    "    for file in glob.glob(os.path.join(directory, \"*.\" + extension)):\n",
    "        files_list.append(file)\n",
    "    return files_list\n",
    "\n",
    "def get_elem_from_path(path, index):\n",
    "    return path.split(\"/\")[index]\n",
    "\n",
    "def get_name_of_file_without_extension(file):\n",
    "    return file.split(\".\")[0]\n",
    "\n",
    "def xml_to_csv_file(catalog, name):\n",
    "    \"\"\"\n",
    "    Funkcja tworzy plik *.csv na podstawie podanego pliku *.xml \n",
    "    z podanego folderu (catalog)\n",
    "    \"\"\"\n",
    "    xml_path = os.path.join(\"..\", ROOT_PATH, catalog, name) + \".xml\"\n",
    "    csv_path = os.path.join(\"..\", CSV_PATH, catalog, name) + \".csv\"\n",
    "    path_to_csv = os.path.join(\"..\", CSV_PATH, catalog)\n",
    "    \n",
    "    if not os.path.exists(path_to_csv):\n",
    "        os.makedirs(path_to_csv)\n",
    "\n",
    "    tree = ET.parse(xml_path)\n",
    "    root = tree.getroot()\n",
    "        \n",
    "    f = open(csv_path, 'w')\n",
    "    csvwriter = csv.writer(f)\n",
    "    \n",
    "    head = []\n",
    "    for row in root:\n",
    "        for key in row.attrib:\n",
    "            if key not in head:\n",
    "                head.append(key)\n",
    "\n",
    "    csvwriter.writerow(head)\n",
    "\n",
    "    for row in root.findall('row'):\n",
    "        _row = []\n",
    "        for key in row.attrib:\n",
    "            value = row.attrib.get(key)\n",
    "            _row.append(value)\n",
    "        csvwriter.writerow(_row) \n",
    "        \n",
    "    f.close()\n",
    "\n",
    "def convert_xml_files_to_csv_files(catalog):\n",
    "    directory = os.path.join(\"..\", ROOT_PATH, catalog)\n",
    "    files_list = get_list_of_files_from_directory(directory, \"xml\")\n",
    "    for file in files_list:\n",
    "        f = get_elem_from_path(file, 3)\n",
    "        name = get_name_of_file_without_extension(f)\n",
    "        xml_to_csv_file(catalog, name)"
   ]
  },
  {
   "cell_type": "code",
   "execution_count": 122,
   "metadata": {},
   "outputs": [],
   "source": [
    "convert_xml_files_to_csv_files(\"fitness_stackexchange_com\")"
   ]
  },
  {
   "cell_type": "code",
   "execution_count": null,
   "metadata": {},
   "outputs": [],
   "source": [
    "convert_xml_files_to_csv_files(\"interpersonal_stackexchange_com\")"
   ]
  },
  {
   "cell_type": "code",
   "execution_count": null,
   "metadata": {},
   "outputs": [],
   "source": [
    "convert_xml_files_to_csv_files(\"world_building_stackexchange_com\")"
   ]
  }
 ],
 "metadata": {
  "kernelspec": {
   "display_name": "Python 3",
   "language": "python",
   "name": "python3"
  },
  "language_info": {
   "codemirror_mode": {
    "name": "ipython",
    "version": 3
   },
   "file_extension": ".py",
   "mimetype": "text/x-python",
   "name": "python",
   "nbconvert_exporter": "python",
   "pygments_lexer": "ipython3",
   "version": "3.7.0"
  }
 },
 "nbformat": 4,
 "nbformat_minor": 2
}
