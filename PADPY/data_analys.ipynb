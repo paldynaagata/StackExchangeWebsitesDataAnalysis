{
 "cells": [
  {
   "cell_type": "markdown",
   "metadata": {},
   "source": [
    "# Analiza danych"
   ]
  },
  {
   "cell_type": "markdown",
   "metadata": {},
   "source": [
    "---"
   ]
  },
  {
   "cell_type": "markdown",
   "metadata": {},
   "source": [
    "## Import pakietów i modułów"
   ]
  },
  {
   "cell_type": "code",
   "execution_count": 1,
   "metadata": {},
   "outputs": [],
   "source": [
    "import sqlite3\n",
    "import pandas as pd\n",
    "import numpy as np\n",
    "import functions as fun"
   ]
  },
  {
   "cell_type": "markdown",
   "metadata": {},
   "source": [
    "---"
   ]
  },
  {
   "cell_type": "markdown",
   "metadata": {},
   "source": [
    "## Tworzenie bazy danych"
   ]
  },
  {
   "cell_type": "code",
   "execution_count": 2,
   "metadata": {},
   "outputs": [],
   "source": [
    "conn = sqlite3.connect(\"pd3_data_base.db\")"
   ]
  },
  {
   "cell_type": "code",
   "execution_count": 3,
   "metadata": {},
   "outputs": [],
   "source": [
    "fitness = fun.read_csv_files_and_add_to_data_base(\"fitness_stackexchange_com\", \"F\", conn)\n",
    "interpersonal = fun.read_csv_files_and_add_to_data_base(\"interpersonal_stackexchange_com\", \"I\", conn)\n",
    "worldbuilding = fun.read_csv_files_and_add_to_data_base(\"worldbuilding_stackexchange_com\", \"W\", conn)"
   ]
  },
  {
   "cell_type": "markdown",
   "metadata": {},
   "source": [
    "---"
   ]
  },
  {
   "cell_type": "markdown",
   "metadata": {},
   "source": [
    "## Przykładowe wywołania"
   ]
  },
  {
   "cell_type": "code",
   "execution_count": 4,
   "metadata": {},
   "outputs": [
    {
     "data": {
      "text/html": [
       "<div>\n",
       "<style scoped>\n",
       "    .dataframe tbody tr th:only-of-type {\n",
       "        vertical-align: middle;\n",
       "    }\n",
       "\n",
       "    .dataframe tbody tr th {\n",
       "        vertical-align: top;\n",
       "    }\n",
       "\n",
       "    .dataframe thead th {\n",
       "        text-align: right;\n",
       "    }\n",
       "</style>\n",
       "<table border=\"1\" class=\"dataframe\">\n",
       "  <thead>\n",
       "    <tr style=\"text-align: right;\">\n",
       "      <th></th>\n",
       "      <th>Id</th>\n",
       "      <th>PostId</th>\n",
       "      <th>VoteTypeId</th>\n",
       "      <th>CreationDate</th>\n",
       "      <th>UserId</th>\n",
       "      <th>BountyAmount</th>\n",
       "    </tr>\n",
       "  </thead>\n",
       "  <tbody>\n",
       "    <tr>\n",
       "      <th>0</th>\n",
       "      <td>1</td>\n",
       "      <td>2</td>\n",
       "      <td>2</td>\n",
       "      <td>2011-03-01T00:00:00.000</td>\n",
       "      <td>NaN</td>\n",
       "      <td>NaN</td>\n",
       "    </tr>\n",
       "    <tr>\n",
       "      <th>1</th>\n",
       "      <td>2</td>\n",
       "      <td>3</td>\n",
       "      <td>5</td>\n",
       "      <td>2011-03-01T00:00:00.000</td>\n",
       "      <td>34.0</td>\n",
       "      <td>NaN</td>\n",
       "    </tr>\n",
       "    <tr>\n",
       "      <th>2</th>\n",
       "      <td>3</td>\n",
       "      <td>6</td>\n",
       "      <td>5</td>\n",
       "      <td>2011-03-01T00:00:00.000</td>\n",
       "      <td>34.0</td>\n",
       "      <td>NaN</td>\n",
       "    </tr>\n",
       "    <tr>\n",
       "      <th>3</th>\n",
       "      <td>4</td>\n",
       "      <td>6</td>\n",
       "      <td>2</td>\n",
       "      <td>2011-03-01T00:00:00.000</td>\n",
       "      <td>NaN</td>\n",
       "      <td>NaN</td>\n",
       "    </tr>\n",
       "    <tr>\n",
       "      <th>4</th>\n",
       "      <td>5</td>\n",
       "      <td>13</td>\n",
       "      <td>2</td>\n",
       "      <td>2011-03-01T00:00:00.000</td>\n",
       "      <td>NaN</td>\n",
       "      <td>NaN</td>\n",
       "    </tr>\n",
       "  </tbody>\n",
       "</table>\n",
       "</div>"
      ],
      "text/plain": [
       "   Id  PostId  VoteTypeId             CreationDate  UserId  BountyAmount\n",
       "0   1       2           2  2011-03-01T00:00:00.000     NaN           NaN\n",
       "1   2       3           5  2011-03-01T00:00:00.000    34.0           NaN\n",
       "2   3       6           5  2011-03-01T00:00:00.000    34.0           NaN\n",
       "3   4       6           2  2011-03-01T00:00:00.000     NaN           NaN\n",
       "4   5      13           2  2011-03-01T00:00:00.000     NaN           NaN"
      ]
     },
     "execution_count": 4,
     "metadata": {},
     "output_type": "execute_result"
    }
   ],
   "source": [
    "fitness[\"VotesF\"].head()"
   ]
  },
  {
   "cell_type": "code",
   "execution_count": 5,
   "metadata": {},
   "outputs": [
    {
     "data": {
      "text/html": [
       "<div>\n",
       "<style scoped>\n",
       "    .dataframe tbody tr th:only-of-type {\n",
       "        vertical-align: middle;\n",
       "    }\n",
       "\n",
       "    .dataframe tbody tr th {\n",
       "        vertical-align: top;\n",
       "    }\n",
       "\n",
       "    .dataframe thead th {\n",
       "        text-align: right;\n",
       "    }\n",
       "</style>\n",
       "<table border=\"1\" class=\"dataframe\">\n",
       "  <thead>\n",
       "    <tr style=\"text-align: right;\">\n",
       "      <th></th>\n",
       "      <th>Id</th>\n",
       "      <th>Reputation</th>\n",
       "      <th>CreationDate</th>\n",
       "      <th>DisplayName</th>\n",
       "      <th>LastAccessDate</th>\n",
       "      <th>Location</th>\n",
       "      <th>AboutMe</th>\n",
       "      <th>Views</th>\n",
       "      <th>UpVotes</th>\n",
       "      <th>DownVotes</th>\n",
       "      <th>AccountId</th>\n",
       "      <th>ProfileImageUrl</th>\n",
       "      <th>WebsiteUrl</th>\n",
       "    </tr>\n",
       "  </thead>\n",
       "  <tbody>\n",
       "    <tr>\n",
       "      <th>0</th>\n",
       "      <td>-1</td>\n",
       "      <td>1</td>\n",
       "      <td>2017-06-26T21:49:21.410</td>\n",
       "      <td>Community</td>\n",
       "      <td>2017-06-26T21:49:21.410</td>\n",
       "      <td>on the server farm</td>\n",
       "      <td>&lt;p&gt;Hi, I'm not really a person.&lt;/p&gt;\\r\\n&lt;p&gt;I'm ...</td>\n",
       "      <td>0.0</td>\n",
       "      <td>2231.0</td>\n",
       "      <td>4082.0</td>\n",
       "      <td>-1.0</td>\n",
       "      <td>NaN</td>\n",
       "      <td>NaN</td>\n",
       "    </tr>\n",
       "    <tr>\n",
       "      <th>1</th>\n",
       "      <td>1</td>\n",
       "      <td>101</td>\n",
       "      <td>2017-06-26T22:16:44.443</td>\n",
       "      <td>Adam Lear</td>\n",
       "      <td>2018-11-25T02:06:59.253</td>\n",
       "      <td>New York, NY</td>\n",
       "      <td>\\n\\n&lt;p&gt;Developer at Stack Overflow. Canadian w...</td>\n",
       "      <td>451.0</td>\n",
       "      <td>0.0</td>\n",
       "      <td>0.0</td>\n",
       "      <td>37099.0</td>\n",
       "      <td>https://i.stack.imgur.com/SMEGn.jpg?s=128&amp;g=1</td>\n",
       "      <td>NaN</td>\n",
       "    </tr>\n",
       "    <tr>\n",
       "      <th>2</th>\n",
       "      <td>2</td>\n",
       "      <td>101</td>\n",
       "      <td>2017-06-27T12:33:29.643</td>\n",
       "      <td>Nick Craver</td>\n",
       "      <td>2018-04-30T14:47:46.147</td>\n",
       "      <td>Winston-Salem, NC</td>\n",
       "      <td>&lt;p&gt;I am the Architecture Lead for Stack Overfl...</td>\n",
       "      <td>31.0</td>\n",
       "      <td>0.0</td>\n",
       "      <td>0.0</td>\n",
       "      <td>7598.0</td>\n",
       "      <td>https://i.stack.imgur.com/nGCYr.jpg?s=128&amp;g=1</td>\n",
       "      <td>https://nickcraver.com/blog/</td>\n",
       "    </tr>\n",
       "    <tr>\n",
       "      <th>3</th>\n",
       "      <td>3</td>\n",
       "      <td>90</td>\n",
       "      <td>2017-06-27T14:57:50.307</td>\n",
       "      <td>Robert Cartaino</td>\n",
       "      <td>2018-11-27T15:38:21.013</td>\n",
       "      <td>Palm Bay, FL</td>\n",
       "      <td>&lt;p&gt;&lt;a href=\"http://blog.stackoverflow.com/2010...</td>\n",
       "      <td>428.0</td>\n",
       "      <td>10.0</td>\n",
       "      <td>81.0</td>\n",
       "      <td>34933.0</td>\n",
       "      <td>https://www.gravatar.com/avatar/2cf2eee5993f6c...</td>\n",
       "      <td>NaN</td>\n",
       "    </tr>\n",
       "    <tr>\n",
       "      <th>4</th>\n",
       "      <td>4</td>\n",
       "      <td>101</td>\n",
       "      <td>2017-06-27T14:57:52.400</td>\n",
       "      <td>Taryn</td>\n",
       "      <td>2018-09-07T14:13:56.707</td>\n",
       "      <td>Arizona</td>\n",
       "      <td>&lt;p&gt;developer, techie, nerd.... DBA at Stack Ov...</td>\n",
       "      <td>26.0</td>\n",
       "      <td>0.0</td>\n",
       "      <td>0.0</td>\n",
       "      <td>188123.0</td>\n",
       "      <td>NaN</td>\n",
       "      <td>https://tarynpivots.com</td>\n",
       "    </tr>\n",
       "  </tbody>\n",
       "</table>\n",
       "</div>"
      ],
      "text/plain": [
       "   Id  Reputation             CreationDate      DisplayName  \\\n",
       "0  -1           1  2017-06-26T21:49:21.410        Community   \n",
       "1   1         101  2017-06-26T22:16:44.443        Adam Lear   \n",
       "2   2         101  2017-06-27T12:33:29.643      Nick Craver   \n",
       "3   3          90  2017-06-27T14:57:50.307  Robert Cartaino   \n",
       "4   4         101  2017-06-27T14:57:52.400            Taryn   \n",
       "\n",
       "            LastAccessDate            Location  \\\n",
       "0  2017-06-26T21:49:21.410  on the server farm   \n",
       "1  2018-11-25T02:06:59.253        New York, NY   \n",
       "2  2018-04-30T14:47:46.147   Winston-Salem, NC   \n",
       "3  2018-11-27T15:38:21.013        Palm Bay, FL   \n",
       "4  2018-09-07T14:13:56.707             Arizona   \n",
       "\n",
       "                                             AboutMe  Views  UpVotes  \\\n",
       "0  <p>Hi, I'm not really a person.</p>\\r\\n<p>I'm ...    0.0   2231.0   \n",
       "1  \\n\\n<p>Developer at Stack Overflow. Canadian w...  451.0      0.0   \n",
       "2  <p>I am the Architecture Lead for Stack Overfl...   31.0      0.0   \n",
       "3  <p><a href=\"http://blog.stackoverflow.com/2010...  428.0     10.0   \n",
       "4  <p>developer, techie, nerd.... DBA at Stack Ov...   26.0      0.0   \n",
       "\n",
       "   DownVotes  AccountId                                    ProfileImageUrl  \\\n",
       "0     4082.0       -1.0                                                NaN   \n",
       "1        0.0    37099.0      https://i.stack.imgur.com/SMEGn.jpg?s=128&g=1   \n",
       "2        0.0     7598.0      https://i.stack.imgur.com/nGCYr.jpg?s=128&g=1   \n",
       "3       81.0    34933.0  https://www.gravatar.com/avatar/2cf2eee5993f6c...   \n",
       "4        0.0   188123.0                                                NaN   \n",
       "\n",
       "                     WebsiteUrl  \n",
       "0                           NaN  \n",
       "1                           NaN  \n",
       "2  https://nickcraver.com/blog/  \n",
       "3                           NaN  \n",
       "4       https://tarynpivots.com  "
      ]
     },
     "execution_count": 5,
     "metadata": {},
     "output_type": "execute_result"
    }
   ],
   "source": [
    "interpersonal[\"UsersI\"].head()"
   ]
  },
  {
   "cell_type": "code",
   "execution_count": 6,
   "metadata": {},
   "outputs": [
    {
     "data": {
      "text/html": [
       "<div>\n",
       "<style scoped>\n",
       "    .dataframe tbody tr th:only-of-type {\n",
       "        vertical-align: middle;\n",
       "    }\n",
       "\n",
       "    .dataframe tbody tr th {\n",
       "        vertical-align: top;\n",
       "    }\n",
       "\n",
       "    .dataframe thead th {\n",
       "        text-align: right;\n",
       "    }\n",
       "</style>\n",
       "<table border=\"1\" class=\"dataframe\">\n",
       "  <thead>\n",
       "    <tr style=\"text-align: right;\">\n",
       "      <th></th>\n",
       "      <th>Id</th>\n",
       "      <th>PostId</th>\n",
       "      <th>Score</th>\n",
       "      <th>Text</th>\n",
       "      <th>CreationDate</th>\n",
       "      <th>UserId</th>\n",
       "      <th>UserDisplayName</th>\n",
       "    </tr>\n",
       "  </thead>\n",
       "  <tbody>\n",
       "    <tr>\n",
       "      <th>0</th>\n",
       "      <td>5</td>\n",
       "      <td>3</td>\n",
       "      <td>10</td>\n",
       "      <td>I feel like this question should also require ...</td>\n",
       "      <td>2014-09-16T18:37:00.430</td>\n",
       "      <td>17.0</td>\n",
       "      <td>NaN</td>\n",
       "    </tr>\n",
       "    <tr>\n",
       "      <th>1</th>\n",
       "      <td>7</td>\n",
       "      <td>13</td>\n",
       "      <td>0</td>\n",
       "      <td>I believe, but don't have references handy to ...</td>\n",
       "      <td>2014-09-16T19:04:31.863</td>\n",
       "      <td>29.0</td>\n",
       "      <td>NaN</td>\n",
       "    </tr>\n",
       "    <tr>\n",
       "      <th>2</th>\n",
       "      <td>8</td>\n",
       "      <td>13</td>\n",
       "      <td>0</td>\n",
       "      <td>Also, are you concerned with news reporting **...</td>\n",
       "      <td>2014-09-16T19:06:05.700</td>\n",
       "      <td>29.0</td>\n",
       "      <td>NaN</td>\n",
       "    </tr>\n",
       "    <tr>\n",
       "      <th>3</th>\n",
       "      <td>9</td>\n",
       "      <td>12</td>\n",
       "      <td>0</td>\n",
       "      <td>True, Harry Potter combines the elements, but ...</td>\n",
       "      <td>2014-09-16T19:13:59.650</td>\n",
       "      <td>28.0</td>\n",
       "      <td>NaN</td>\n",
       "    </tr>\n",
       "    <tr>\n",
       "      <th>4</th>\n",
       "      <td>10</td>\n",
       "      <td>19</td>\n",
       "      <td>0</td>\n",
       "      <td>I think this would be better on Linguistics.st...</td>\n",
       "      <td>2014-09-16T19:15:27.260</td>\n",
       "      <td>15.0</td>\n",
       "      <td>NaN</td>\n",
       "    </tr>\n",
       "  </tbody>\n",
       "</table>\n",
       "</div>"
      ],
      "text/plain": [
       "   Id  PostId  Score                                               Text  \\\n",
       "0   5       3     10  I feel like this question should also require ...   \n",
       "1   7      13      0  I believe, but don't have references handy to ...   \n",
       "2   8      13      0  Also, are you concerned with news reporting **...   \n",
       "3   9      12      0  True, Harry Potter combines the elements, but ...   \n",
       "4  10      19      0  I think this would be better on Linguistics.st...   \n",
       "\n",
       "              CreationDate  UserId UserDisplayName  \n",
       "0  2014-09-16T18:37:00.430    17.0             NaN  \n",
       "1  2014-09-16T19:04:31.863    29.0             NaN  \n",
       "2  2014-09-16T19:06:05.700    29.0             NaN  \n",
       "3  2014-09-16T19:13:59.650    28.0             NaN  \n",
       "4  2014-09-16T19:15:27.260    15.0             NaN  "
      ]
     },
     "execution_count": 6,
     "metadata": {},
     "output_type": "execute_result"
    }
   ],
   "source": [
    "worldbuilding[\"CommentsW\"].head()"
   ]
  },
  {
   "cell_type": "markdown",
   "metadata": {},
   "source": [
    "---"
   ]
  },
  {
   "cell_type": "markdown",
   "metadata": {},
   "source": [
    "## Zapytania i wykresy"
   ]
  },
  {
   "cell_type": "code",
   "execution_count": null,
   "metadata": {},
   "outputs": [],
   "source": []
  },
  {
   "cell_type": "markdown",
   "metadata": {},
   "source": [
    "---"
   ]
  }
 ],
 "metadata": {
  "kernelspec": {
   "display_name": "Python 3",
   "language": "python",
   "name": "python3"
  },
  "language_info": {
   "codemirror_mode": {
    "name": "ipython",
    "version": 3
   },
   "file_extension": ".py",
   "mimetype": "text/x-python",
   "name": "python",
   "nbconvert_exporter": "python",
   "pygments_lexer": "ipython3",
   "version": "3.7.0"
  }
 },
 "nbformat": 4,
 "nbformat_minor": 2
}
