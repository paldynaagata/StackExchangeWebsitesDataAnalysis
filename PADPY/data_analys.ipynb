{
 "cells": [
  {
   "cell_type": "markdown",
   "metadata": {},
   "source": [
    "# Analiza danych"
   ]
  },
  {
   "cell_type": "markdown",
   "metadata": {},
   "source": [
    "---"
   ]
  },
  {
   "cell_type": "markdown",
   "metadata": {},
   "source": [
    "## Import pakietów i modułów"
   ]
  },
  {
   "cell_type": "code",
   "execution_count": 1,
   "metadata": {},
   "outputs": [],
   "source": [
    "import sqlite3\n",
    "import pandas as pd\n",
    "import numpy as np\n",
    "import functions as fun"
   ]
  },
  {
   "cell_type": "markdown",
   "metadata": {},
   "source": [
    "---"
   ]
  },
  {
   "cell_type": "markdown",
   "metadata": {},
   "source": [
    "## Tworzenie bazy danych"
   ]
  },
  {
   "cell_type": "code",
   "execution_count": 2,
   "metadata": {},
   "outputs": [],
   "source": [
    "conn = sqlite3.connect(\"pd3_data_base.db\")"
   ]
  },
  {
   "cell_type": "code",
   "execution_count": 3,
   "metadata": {},
   "outputs": [],
   "source": [
    "fitness = fun.read_csv_files_and_add_to_data_base(\"fitness_stackexchange_com\", \"F\", conn)\n",
    "interpersonal = fun.read_csv_files_and_add_to_data_base(\"interpersonal_stackexchange_com\", \"I\", conn)\n",
    "worldbuilding = fun.read_csv_files_and_add_to_data_base(\"worldbuilding_stackexchange_com\", \"W\", conn)"
   ]
  },
  {
   "cell_type": "code",
   "execution_count": 7,
   "metadata": {},
   "outputs": [
    {
     "data": {
      "text/html": [
       "<div>\n",
       "<style scoped>\n",
       "    .dataframe tbody tr th:only-of-type {\n",
       "        vertical-align: middle;\n",
       "    }\n",
       "\n",
       "    .dataframe tbody tr th {\n",
       "        vertical-align: top;\n",
       "    }\n",
       "\n",
       "    .dataframe thead th {\n",
       "        text-align: right;\n",
       "    }\n",
       "</style>\n",
       "<table border=\"1\" class=\"dataframe\">\n",
       "  <thead>\n",
       "    <tr style=\"text-align: right;\">\n",
       "      <th></th>\n",
       "      <th>Id</th>\n",
       "      <th>TagName</th>\n",
       "      <th>Count</th>\n",
       "      <th>ExcerptPostId</th>\n",
       "      <th>WikiPostId</th>\n",
       "    </tr>\n",
       "  </thead>\n",
       "  <tbody>\n",
       "    <tr>\n",
       "      <th>0</th>\n",
       "      <td>1</td>\n",
       "      <td>cutting</td>\n",
       "      <td>22</td>\n",
       "      <td>NaN</td>\n",
       "      <td>NaN</td>\n",
       "    </tr>\n",
       "    <tr>\n",
       "      <th>1</th>\n",
       "      <td>2</td>\n",
       "      <td>diet</td>\n",
       "      <td>518</td>\n",
       "      <td>3384.0</td>\n",
       "      <td>3383.0</td>\n",
       "    </tr>\n",
       "    <tr>\n",
       "      <th>2</th>\n",
       "      <td>3</td>\n",
       "      <td>protein</td>\n",
       "      <td>201</td>\n",
       "      <td>7669.0</td>\n",
       "      <td>7668.0</td>\n",
       "    </tr>\n",
       "    <tr>\n",
       "      <th>3</th>\n",
       "      <td>4</td>\n",
       "      <td>nutrition</td>\n",
       "      <td>320</td>\n",
       "      <td>527.0</td>\n",
       "      <td>526.0</td>\n",
       "    </tr>\n",
       "    <tr>\n",
       "      <th>4</th>\n",
       "      <td>5</td>\n",
       "      <td>jogging</td>\n",
       "      <td>78</td>\n",
       "      <td>NaN</td>\n",
       "      <td>NaN</td>\n",
       "    </tr>\n",
       "  </tbody>\n",
       "</table>\n",
       "</div>"
      ],
      "text/plain": [
       "   Id    TagName  Count  ExcerptPostId  WikiPostId\n",
       "0   1    cutting     22            NaN         NaN\n",
       "1   2       diet    518         3384.0      3383.0\n",
       "2   3    protein    201         7669.0      7668.0\n",
       "3   4  nutrition    320          527.0       526.0\n",
       "4   5    jogging     78            NaN         NaN"
      ]
     },
     "execution_count": 7,
     "metadata": {},
     "output_type": "execute_result"
    }
   ],
   "source": [
    "fitness[\"TagsF\"].head()"
   ]
  },
  {
   "cell_type": "markdown",
   "metadata": {},
   "source": [
    "---"
   ]
  },
  {
   "cell_type": "markdown",
   "metadata": {},
   "source": [
    "## Przykładowe wywołania"
   ]
  },
  {
   "cell_type": "code",
   "execution_count": 6,
   "metadata": {},
   "outputs": [
    {
     "data": {
      "text/html": [
       "<div>\n",
       "<style scoped>\n",
       "    .dataframe tbody tr th:only-of-type {\n",
       "        vertical-align: middle;\n",
       "    }\n",
       "\n",
       "    .dataframe tbody tr th {\n",
       "        vertical-align: top;\n",
       "    }\n",
       "\n",
       "    .dataframe thead th {\n",
       "        text-align: right;\n",
       "    }\n",
       "</style>\n",
       "<table border=\"1\" class=\"dataframe\">\n",
       "  <thead>\n",
       "    <tr style=\"text-align: right;\">\n",
       "      <th></th>\n",
       "      <th>Id</th>\n",
       "      <th>PostId</th>\n",
       "      <th>Score</th>\n",
       "      <th>Text</th>\n",
       "      <th>CreationDate</th>\n",
       "      <th>UserId</th>\n",
       "      <th>UserDisplayName</th>\n",
       "    </tr>\n",
       "  </thead>\n",
       "  <tbody>\n",
       "    <tr>\n",
       "      <th>0</th>\n",
       "      <td>5</td>\n",
       "      <td>3</td>\n",
       "      <td>10</td>\n",
       "      <td>I feel like this question should also require ...</td>\n",
       "      <td>2014-09-16T18:37:00.430</td>\n",
       "      <td>17.0</td>\n",
       "      <td>NaN</td>\n",
       "    </tr>\n",
       "    <tr>\n",
       "      <th>1</th>\n",
       "      <td>7</td>\n",
       "      <td>13</td>\n",
       "      <td>0</td>\n",
       "      <td>I believe, but don't have references handy to ...</td>\n",
       "      <td>2014-09-16T19:04:31.863</td>\n",
       "      <td>29.0</td>\n",
       "      <td>NaN</td>\n",
       "    </tr>\n",
       "    <tr>\n",
       "      <th>2</th>\n",
       "      <td>8</td>\n",
       "      <td>13</td>\n",
       "      <td>0</td>\n",
       "      <td>Also, are you concerned with news reporting **...</td>\n",
       "      <td>2014-09-16T19:06:05.700</td>\n",
       "      <td>29.0</td>\n",
       "      <td>NaN</td>\n",
       "    </tr>\n",
       "    <tr>\n",
       "      <th>3</th>\n",
       "      <td>9</td>\n",
       "      <td>12</td>\n",
       "      <td>0</td>\n",
       "      <td>True, Harry Potter combines the elements, but ...</td>\n",
       "      <td>2014-09-16T19:13:59.650</td>\n",
       "      <td>28.0</td>\n",
       "      <td>NaN</td>\n",
       "    </tr>\n",
       "    <tr>\n",
       "      <th>4</th>\n",
       "      <td>10</td>\n",
       "      <td>19</td>\n",
       "      <td>0</td>\n",
       "      <td>I think this would be better on Linguistics.st...</td>\n",
       "      <td>2014-09-16T19:15:27.260</td>\n",
       "      <td>15.0</td>\n",
       "      <td>NaN</td>\n",
       "    </tr>\n",
       "  </tbody>\n",
       "</table>\n",
       "</div>"
      ],
      "text/plain": [
       "   Id  PostId  Score                                               Text  \\\n",
       "0   5       3     10  I feel like this question should also require ...   \n",
       "1   7      13      0  I believe, but don't have references handy to ...   \n",
       "2   8      13      0  Also, are you concerned with news reporting **...   \n",
       "3   9      12      0  True, Harry Potter combines the elements, but ...   \n",
       "4  10      19      0  I think this would be better on Linguistics.st...   \n",
       "\n",
       "              CreationDate  UserId UserDisplayName  \n",
       "0  2014-09-16T18:37:00.430    17.0             NaN  \n",
       "1  2014-09-16T19:04:31.863    29.0             NaN  \n",
       "2  2014-09-16T19:06:05.700    29.0             NaN  \n",
       "3  2014-09-16T19:13:59.650    28.0             NaN  \n",
       "4  2014-09-16T19:15:27.260    15.0             NaN  "
      ]
     },
     "execution_count": 6,
     "metadata": {},
     "output_type": "execute_result"
    }
   ],
   "source": [
    "worldbuilding[\"CommentsW\"].head()"
   ]
  },
  {
   "cell_type": "markdown",
   "metadata": {},
   "source": [
    "---"
   ]
  },
  {
   "cell_type": "markdown",
   "metadata": {},
   "source": [
    "## Zapytania i wykresy"
   ]
  },
  {
   "cell_type": "markdown",
   "metadata": {},
   "source": []
  },
  {
   "cell_type": "code",
   "execution_count": 4,
   "metadata": {},
   "outputs": [],
   "source": [
    "%matplotlib inline\n",
    "import matplotlib.pyplot as plt\n",
    "import seaborn as sns"
   ]
  },
  {
   "cell_type": "code",
   "execution_count": 5,
   "metadata": {},
   "outputs": [],
   "source": [
    "# Fitness query 3\n",
    "#import ggplot\n",
    "xF = fitness[\"PostsF\"].\\\n",
    "loc[fitness[\"PostsF\"].PostTypeId==1, \\\n",
    "    [\"Id\",\"ParentId\", \"CommentCount\"]]\n",
    "yF = fitness[\"PostsF\"].\\\n",
    "loc[fitness[\"PostsF\"].PostTypeId==2, \\\n",
    "    [\"Id\",\"ParentId\", \"CommentCount\"]]\n",
    "\n",
    "zF = pd.merge(xF,yF,left_on=\"Id\",right_on = \"ParentId\")\n",
    "\n",
    "u1F = zF.groupby(\"Id_x\")[\"CommentCount_y\"].sum().reset_index(drop=False)\n",
    "u2F=zF.groupby(\"Id_x\").size().reset_index(drop=False)\n",
    "uF = pd.merge(u1F,u2F, on=\"Id_x\").rename(index=str, columns={\"Id_x\":\"Id_x\", \"CommentCount_y\":\"Tot\",0:\"n\"})\n",
    "wF = pd.merge(uF,zF, on=\"Id_x\").rename(index=str, columns={\"Id_x\":\"Id\",0:\"n\"})\n",
    "wF[\"TotalCm\"]=wF[\"Tot\"]+wF[\"n\"]+wF[\"CommentCount_x\"]\n",
    "QuestionsComViewF = pd.merge(wF, fitness[\"PostsF\"],on=\"Id\").loc[:,[\"Id\",\"TotalCm\",\"ViewCount\" ]].\\\n",
    "drop_duplicates().reset_index(drop=True)\n",
    "# teraz wykres \n",
    "\n",
    "\n",
    "\n",
    "\n",
    "\n"
   ]
  },
  {
   "cell_type": "code",
   "execution_count": null,
   "metadata": {},
   "outputs": [],
   "source": [
    "# INterpersonal\n",
    "xI = interpersonal[\"PostsI\"].\\\n",
    "loc[interpersonal[\"PostsI\"].PostTypeId==1, \\\n",
    "    [\"Id\",\"ParentId\", \"CommentCount\"]]\n",
    "yI = interpersonal[\"PostsI\"].\\\n",
    "loc[interpersonal[\"PostsI\"].PostTypeId==2, \\\n",
    "    [\"Id\",\"ParentId\", \"CommentCount\"]]\n",
    "\n",
    "zI = pd.merge(xI,yI,left_on=\"Id\",right_on = \"ParentId\")\n",
    "\n",
    "u1I = zI.groupby(\"Id_x\")[\"CommentCount_y\"].sum().reset_index(drop=False)\n",
    "u2I=zI.groupby(\"Id_x\").size().reset_index(drop=False)\n",
    "uI = pd.merge(u1I,u2I, on=\"Id_x\").rename(index=str, columns={\"Id_x\":\"Id_x\", \"CommentCount_y\":\"Tot\",0:\"n\"})\n",
    "wI = pd.merge(uI,zI, on=\"Id_x\").rename(index=str, columns={\"Id_x\":\"Id\",0:\"n\"})\n",
    "wI[\"TotalCm\"]=wI[\"Tot\"]+wI[\"n\"]+wI[\"CommentCount_x\"]\n",
    "QuestionsComViewI = pd.merge(wI, interpersonal[\"PostsI\"],on=\"Id\").loc[:,[\"Id\",\"TotalCm\",\"ViewCount\" ]].\\\n",
    "drop_duplicates().reset_index(drop=True)\n",
    "\n",
    "#wykresy"
   ]
  },
  {
   "cell_type": "markdown",
   "metadata": {},
   "source": [
    "---"
   ]
  },
  {
   "cell_type": "code",
   "execution_count": null,
   "metadata": {},
   "outputs": [],
   "source": [
    "# worldbuilding\n",
    "xW = worldbuilding[\"PostsW\"].\\\n",
    "loc[worldbuilding[\"PostsW\"].PostTypeId==1, \\\n",
    "    [\"Id\",\"ParentId\", \"CommentCount\"]]\n",
    "yW = worldbuilding[\"PostsW\"].\\\n",
    "loc[worldbuilding[\"PostsW\"].PostTypeId==2, \\\n",
    "    [\"Id\",\"ParentId\", \"CommentCount\"]]\n",
    "\n",
    "zW = pd.merge(xW,yW,left_on=\"Id\",right_on = \"ParentId\")\n",
    "\n",
    "u1W = zW.groupby(\"Id_x\")[\"CommentCount_y\"].sum().reset_index(drop=False)\n",
    "u2W=zW.groupby(\"Id_x\").size().reset_index(drop=False)\n",
    "uW = pd.merge(u1W,u2W, on=\"Id_x\").rename(index=str, columns={\"Id_x\":\"Id_x\", \"CommentCount_y\":\"Tot\",0:\"n\"})\n",
    "wW = pd.merge(uW,zW, on=\"Id_x\").rename(index=str, columns={\"Id_x\":\"Id\",0:\"n\"})\n",
    "wW[\"TotalCm\"]=wW[\"Tot\"]+wW[\"n\"]+wW[\"CommentCount_x\"]\n",
    "QuestionsComViewW = pd.merge(wW, worldbuilding[\"PostsW\"],on=\"Id\").loc[:,[\"Id\",\"TotalCm\",\"ViewCount\" ]].\\\n",
    "drop_duplicates().reset_index(drop=True)\n",
    "\n",
    "#wykresy"
   ]
  },
  {
   "cell_type": "code",
   "execution_count": 157,
   "metadata": {},
   "outputs": [
    {
     "data": {
      "text/html": [
       "<div>\n",
       "<style scoped>\n",
       "    .dataframe tbody tr th:only-of-type {\n",
       "        vertical-align: middle;\n",
       "    }\n",
       "\n",
       "    .dataframe tbody tr th {\n",
       "        vertical-align: top;\n",
       "    }\n",
       "\n",
       "    .dataframe thead th {\n",
       "        text-align: right;\n",
       "    }\n",
       "</style>\n",
       "<table border=\"1\" class=\"dataframe\">\n",
       "  <thead>\n",
       "    <tr style=\"text-align: right;\">\n",
       "      <th></th>\n",
       "      <th>Title</th>\n",
       "      <th>ViewCount</th>\n",
       "    </tr>\n",
       "  </thead>\n",
       "  <tbody>\n",
       "    <tr>\n",
       "      <th>7321</th>\n",
       "      <td>What is the effect of masturbation on weightli...</td>\n",
       "      <td>413093.0</td>\n",
       "    </tr>\n",
       "    <tr>\n",
       "      <th>402</th>\n",
       "      <td>How effective is Zumba in weight-loss and toning?</td>\n",
       "      <td>291594.0</td>\n",
       "    </tr>\n",
       "    <tr>\n",
       "      <th>798</th>\n",
       "      <td>My hip goes out of place within a matter of da...</td>\n",
       "      <td>289433.0</td>\n",
       "    </tr>\n",
       "    <tr>\n",
       "      <th>6688</th>\n",
       "      <td>How much do empty barbells weigh?</td>\n",
       "      <td>202813.0</td>\n",
       "    </tr>\n",
       "    <tr>\n",
       "      <th>3951</th>\n",
       "      <td>What is the proper procedure for showering in ...</td>\n",
       "      <td>199298.0</td>\n",
       "    </tr>\n",
       "  </tbody>\n",
       "</table>\n",
       "</div>"
      ],
      "text/plain": [
       "                                                  Title  ViewCount\n",
       "7321  What is the effect of masturbation on weightli...   413093.0\n",
       "402   How effective is Zumba in weight-loss and toning?   291594.0\n",
       "798   My hip goes out of place within a matter of da...   289433.0\n",
       "6688                  How much do empty barbells weigh?   202813.0\n",
       "3951  What is the proper procedure for showering in ...   199298.0"
      ]
     },
     "execution_count": 157,
     "metadata": {},
     "output_type": "execute_result"
    }
   ],
   "source": [
    "# query 2-posty, ktre mialy najwieksza liczbe wyswietlen\n",
    "TopViewsPostsF = fitness[\"PostsF\"].loc[:,[\"Title\", \"ViewCount\"]].sort_values(\"ViewCount\", ascending=False)\n",
    "TopViewsPostsF.head()\n",
    "TopViewsPostsI = interpersonal[\"PostsI\"].loc[:,[\"Title\", \"ViewCount\"]].sort_values(\"ViewCount\", ascending=False)\n",
    "TopViewsPostsW = worldbuilding[\"PostsW\"].loc[:,[\"Title\", \"ViewCount\"]].sort_values(\"ViewCount\", ascending=False)\n",
    "\n",
    "# tu wykresy jeszcze, bar ploty\n"
   ]
  },
  {
   "cell_type": "code",
   "execution_count": 7,
   "metadata": {},
   "outputs": [
    {
     "name": "stderr",
     "output_type": "stream",
     "text": [
      "/opt/anaconda/lib/python3.7/site-packages/ggplot/utils.py:81: FutureWarning: pandas.tslib is deprecated and will be removed in a future version.\n",
      "You can access Timestamp as pandas.Timestamp\n",
      "  pd.tslib.Timestamp,\n",
      "/opt/anaconda/lib/python3.7/site-packages/ggplot/stats/smoothers.py:4: FutureWarning: The pandas.lib module is deprecated and will be removed in a future version. These are private functions and can be accessed from pandas._libs.lib instead\n",
      "  from pandas.lib import Timestamp\n"
     ]
    },
    {
     "ename": "ImportError",
     "evalue": "cannot import name 'Timestamp' from 'pandas.lib' (/opt/anaconda/lib/python3.7/site-packages/pandas/lib.py)",
     "output_type": "error",
     "traceback": [
      "\u001b[0;31m---------------------------------------------------------------------------\u001b[0m",
      "\u001b[0;31mImportError\u001b[0m                               Traceback (most recent call last)",
      "\u001b[0;32m<ipython-input-7-611549fc2266>\u001b[0m in \u001b[0;36m<module>\u001b[0;34m()\u001b[0m\n\u001b[0;32m----> 1\u001b[0;31m \u001b[0;32mfrom\u001b[0m \u001b[0mggplot\u001b[0m \u001b[0;32mimport\u001b[0m \u001b[0;34m*\u001b[0m\u001b[0;34m\u001b[0m\u001b[0m\n\u001b[0m\u001b[1;32m      2\u001b[0m \u001b[0mdiamonds\u001b[0m\u001b[0;34m.\u001b[0m\u001b[0mhead\u001b[0m\u001b[0;34m(\u001b[0m\u001b[0;34m)\u001b[0m\u001b[0;34m\u001b[0m\u001b[0m\n",
      "\u001b[0;32m/opt/anaconda/lib/python3.7/site-packages/ggplot/__init__.py\u001b[0m in \u001b[0;36m<module>\u001b[0;34m()\u001b[0m\n\u001b[1;32m     18\u001b[0m \u001b[0;34m\u001b[0m\u001b[0m\n\u001b[1;32m     19\u001b[0m \u001b[0;32mfrom\u001b[0m \u001b[0;34m.\u001b[0m\u001b[0mgeoms\u001b[0m \u001b[0;32mimport\u001b[0m \u001b[0mgeom_area\u001b[0m\u001b[0;34m,\u001b[0m \u001b[0mgeom_blank\u001b[0m\u001b[0;34m,\u001b[0m \u001b[0mgeom_boxplot\u001b[0m\u001b[0;34m,\u001b[0m \u001b[0mgeom_line\u001b[0m\u001b[0;34m,\u001b[0m \u001b[0mgeom_point\u001b[0m\u001b[0;34m,\u001b[0m \u001b[0mgeom_jitter\u001b[0m\u001b[0;34m,\u001b[0m \u001b[0mgeom_histogram\u001b[0m\u001b[0;34m,\u001b[0m \u001b[0mgeom_density\u001b[0m\u001b[0;34m,\u001b[0m \u001b[0mgeom_hline\u001b[0m\u001b[0;34m,\u001b[0m \u001b[0mgeom_vline\u001b[0m\u001b[0;34m,\u001b[0m \u001b[0mgeom_bar\u001b[0m\u001b[0;34m,\u001b[0m \u001b[0mgeom_abline\u001b[0m\u001b[0;34m,\u001b[0m \u001b[0mgeom_tile\u001b[0m\u001b[0;34m,\u001b[0m \u001b[0mgeom_rect\u001b[0m\u001b[0;34m,\u001b[0m \u001b[0mgeom_bin2d\u001b[0m\u001b[0;34m,\u001b[0m \u001b[0mgeom_step\u001b[0m\u001b[0;34m,\u001b[0m \u001b[0mgeom_text\u001b[0m\u001b[0;34m,\u001b[0m \u001b[0mgeom_path\u001b[0m\u001b[0;34m,\u001b[0m \u001b[0mgeom_ribbon\u001b[0m\u001b[0;34m,\u001b[0m \u001b[0mgeom_now_its_art\u001b[0m\u001b[0;34m,\u001b[0m \u001b[0mgeom_violin\u001b[0m\u001b[0;34m,\u001b[0m \u001b[0mgeom_errorbar\u001b[0m\u001b[0;34m,\u001b[0m \u001b[0mgeom_polygon\u001b[0m\u001b[0;34m\u001b[0m\u001b[0m\n\u001b[0;32m---> 20\u001b[0;31m \u001b[0;32mfrom\u001b[0m \u001b[0;34m.\u001b[0m\u001b[0mstats\u001b[0m \u001b[0;32mimport\u001b[0m \u001b[0mstat_smooth\u001b[0m\u001b[0;34m,\u001b[0m \u001b[0mstat_density\u001b[0m\u001b[0;34m\u001b[0m\u001b[0m\n\u001b[0m\u001b[1;32m     21\u001b[0m \u001b[0;34m\u001b[0m\u001b[0m\n\u001b[1;32m     22\u001b[0m \u001b[0;32mfrom\u001b[0m \u001b[0;34m.\u001b[0m\u001b[0mfacets\u001b[0m \u001b[0;32mimport\u001b[0m \u001b[0mfacet_wrap\u001b[0m\u001b[0;34m,\u001b[0m \u001b[0mfacet_grid\u001b[0m\u001b[0;34m,\u001b[0m \u001b[0mFacet\u001b[0m\u001b[0;34m\u001b[0m\u001b[0m\n",
      "\u001b[0;32m/opt/anaconda/lib/python3.7/site-packages/ggplot/stats/__init__.py\u001b[0m in \u001b[0;36m<module>\u001b[0;34m()\u001b[0m\n\u001b[1;32m      1\u001b[0m \u001b[0;32mfrom\u001b[0m \u001b[0;34m.\u001b[0m\u001b[0mstat_density\u001b[0m \u001b[0;32mimport\u001b[0m \u001b[0mstat_density\u001b[0m\u001b[0;34m\u001b[0m\u001b[0m\n\u001b[0;32m----> 2\u001b[0;31m \u001b[0;32mfrom\u001b[0m \u001b[0;34m.\u001b[0m\u001b[0mstat_smooth\u001b[0m \u001b[0;32mimport\u001b[0m \u001b[0mstat_smooth\u001b[0m\u001b[0;34m\u001b[0m\u001b[0m\n\u001b[0m",
      "\u001b[0;32m/opt/anaconda/lib/python3.7/site-packages/ggplot/stats/stat_smooth.py\u001b[0m in \u001b[0;36m<module>\u001b[0;34m()\u001b[0m\n\u001b[1;32m      3\u001b[0m \u001b[0;34m\u001b[0m\u001b[0m\n\u001b[1;32m      4\u001b[0m \u001b[0;32mfrom\u001b[0m \u001b[0;34m.\u001b[0m\u001b[0;34m.\u001b[0m\u001b[0mgeoms\u001b[0m\u001b[0;34m.\u001b[0m\u001b[0mgeom\u001b[0m \u001b[0;32mimport\u001b[0m \u001b[0mgeom\u001b[0m\u001b[0;34m\u001b[0m\u001b[0m\n\u001b[0;32m----> 5\u001b[0;31m \u001b[0;32mfrom\u001b[0m \u001b[0;34m.\u001b[0m \u001b[0;32mimport\u001b[0m \u001b[0msmoothers\u001b[0m\u001b[0;34m\u001b[0m\u001b[0m\n\u001b[0m\u001b[1;32m      6\u001b[0m \u001b[0;32mfrom\u001b[0m \u001b[0;34m.\u001b[0m\u001b[0;34m.\u001b[0m\u001b[0mutils\u001b[0m \u001b[0;32mimport\u001b[0m \u001b[0mis_date\u001b[0m\u001b[0;34m\u001b[0m\u001b[0m\n\u001b[1;32m      7\u001b[0m \u001b[0;34m\u001b[0m\u001b[0m\n",
      "\u001b[0;32m/opt/anaconda/lib/python3.7/site-packages/ggplot/stats/smoothers.py\u001b[0m in \u001b[0;36m<module>\u001b[0;34m()\u001b[0m\n\u001b[1;32m      2\u001b[0m                         unicode_literals)\n\u001b[1;32m      3\u001b[0m \u001b[0;32mimport\u001b[0m \u001b[0mnumpy\u001b[0m \u001b[0;32mas\u001b[0m \u001b[0mnp\u001b[0m\u001b[0;34m\u001b[0m\u001b[0m\n\u001b[0;32m----> 4\u001b[0;31m \u001b[0;32mfrom\u001b[0m \u001b[0mpandas\u001b[0m\u001b[0;34m.\u001b[0m\u001b[0mlib\u001b[0m \u001b[0;32mimport\u001b[0m \u001b[0mTimestamp\u001b[0m\u001b[0;34m\u001b[0m\u001b[0m\n\u001b[0m\u001b[1;32m      5\u001b[0m \u001b[0;32mimport\u001b[0m \u001b[0mpandas\u001b[0m \u001b[0;32mas\u001b[0m \u001b[0mpd\u001b[0m\u001b[0;34m\u001b[0m\u001b[0m\n\u001b[1;32m      6\u001b[0m \u001b[0;32mimport\u001b[0m \u001b[0mstatsmodels\u001b[0m\u001b[0;34m.\u001b[0m\u001b[0mapi\u001b[0m \u001b[0;32mas\u001b[0m \u001b[0msm\u001b[0m\u001b[0;34m\u001b[0m\u001b[0m\n",
      "\u001b[0;31mImportError\u001b[0m: cannot import name 'Timestamp' from 'pandas.lib' (/opt/anaconda/lib/python3.7/site-packages/pandas/lib.py)"
     ]
    }
   ],
   "source": [
    "from ggplot import *\n",
    "diamonds.head()"
   ]
  }
 ],
 "metadata": {
  "kernelspec": {
   "display_name": "Python 3",
   "language": "python",
   "name": "python3"
  },
  "language_info": {
   "codemirror_mode": {
    "name": "ipython",
    "version": 3
   },
   "file_extension": ".py",
   "mimetype": "text/x-python",
   "name": "python",
   "nbconvert_exporter": "python",
   "pygments_lexer": "ipython3",
   "version": "3.7.0"
  }
 },
 "nbformat": 4,
 "nbformat_minor": 2
}
