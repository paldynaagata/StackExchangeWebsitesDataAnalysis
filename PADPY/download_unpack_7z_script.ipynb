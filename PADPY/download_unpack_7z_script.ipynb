{
 "cells": [
  {
   "cell_type": "markdown",
   "metadata": {},
   "source": [
    "# Pobieranie i rozpakowywanie plików \\*.7z do wybranego katalogu"
   ]
  },
  {
   "cell_type": "code",
   "execution_count": 1,
   "metadata": {},
   "outputs": [],
   "source": [
    "import os.path\n",
    "import tempfile\n",
    "import urllib.request\n",
    "import py7zlib"
   ]
  },
  {
   "cell_type": "code",
   "execution_count": 2,
   "metadata": {},
   "outputs": [],
   "source": [
    "def download_unpack_7z_to_catalog(url, catalog):\n",
    "    \"\"\"\n",
    "    Funkcja pobiera plik *.7z z podanego adresu (url)\n",
    "    i go rozpakowuje do podanego folderu (catalog)\n",
    "    \"\"\"\n",
    "    path = os.path.join(\"..\", \"serwisy_xml\", catalog)\n",
    "    \n",
    "    if not os.path.exists(path):\n",
    "        os.makedirs(path)\n",
    "    \n",
    "    _, file = tempfile.mkstemp()\n",
    "    urllib.request.urlretrieve(url, file)\n",
    "\n",
    "    with open(file, 'rb') as f:\n",
    "        archive = py7zlib.Archive7z(f)\n",
    "        for name in archive.getnames():\n",
    "            outfilename = os.path.join(path, name)\n",
    "            outfile = open(outfilename, 'wb')\n",
    "            outfile.write(archive.getmember(name).read())\n",
    "            outfile.close()\n",
    "    \n",
    "    os.remove(file)"
   ]
  },
  {
   "cell_type": "code",
   "execution_count": 3,
   "metadata": {},
   "outputs": [],
   "source": [
    "download_unpack_7z_to_catalog(\"https://archive.org/download/stackexchange/fitness.stackexchange.com.7z\", \"fitness_stackexchange_com\")"
   ]
  },
  {
   "cell_type": "code",
   "execution_count": 4,
   "metadata": {},
   "outputs": [],
   "source": [
    "download_unpack_7z_to_catalog(\"https://archive.org/download/stackexchange/interpersonal.stackexchange.com.7z\", \"interpersonal_stackexchange_com\")"
   ]
  },
  {
   "cell_type": "code",
   "execution_count": 5,
   "metadata": {},
   "outputs": [],
   "source": [
    "download_unpack_7z_to_catalog(\"https://archive.org/download/stackexchange/worldbuilding.stackexchange.com.7z\", \"worldbuilding_stackexchange_com\")"
   ]
  }
 ],
 "metadata": {
  "kernelspec": {
   "display_name": "Python 3",
   "language": "python",
   "name": "python3"
  },
  "language_info": {
   "codemirror_mode": {
    "name": "ipython",
    "version": 3
   },
   "file_extension": ".py",
   "mimetype": "text/x-python",
   "name": "python",
   "nbconvert_exporter": "python",
   "pygments_lexer": "ipython3",
   "version": "3.7.0"
  }
 },
 "nbformat": 4,
 "nbformat_minor": 2
}
